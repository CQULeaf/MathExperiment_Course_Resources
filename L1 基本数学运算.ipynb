{
 "cells": [
  {
   "cell_type": "markdown",
   "metadata": {},
   "source": [
    "# 熟悉使用代码进行数学运算"
   ]
  },
  {
   "cell_type": "markdown",
   "metadata": {},
   "source": [
    "## 一些基本的函数运算\n",
    "\n",
    "- 学会使用`math`库进行基本的函数运算操作，如：各种三角函数，指数，对数，绝对值，幂函数，复杂函数，特殊函数（如向下取整函数）等。"
   ]
  },
  {
   "cell_type": "code",
   "execution_count": 1,
   "metadata": {},
   "outputs": [
    {
     "name": "stdout",
     "output_type": "stream",
     "text": [
      "y_0 = 35.16\n",
      "y_1 = 2.15\n",
      "y_2 = 0.11\n",
      "y_3 = 1.24\n",
      "y_4 = 1.95\n",
      "y_5 = 3.00\n"
     ]
    }
   ],
   "source": [
    "import math\n",
    "\n",
    "# 基本函数运算\n",
    "x = 3.56\n",
    "y_0 = math.exp(x)\n",
    "print(f\"y_0 = {y_0:.2f}\")\n",
    "\n",
    "y_1 = math.tan(x**3)\n",
    "y_2 = math.asin(x**2 - 4*math.pi)\n",
    "y_3 = x**(1/6)\n",
    "\n",
    "print(f\"y_1 = {y_1:.2f}\")\n",
    "print(f\"y_2 = {y_2:.2f}\")\n",
    "print(f\"y_3 = {y_3:.2f}\")\n",
    "\n",
    "y_4 = math.log10(abs(x - x**x))\n",
    "y_5 = math.floor(x)\n",
    "print(f\"y_4 = {y_4:.2f}\")\n",
    "print(f\"y_5 = {y_5:.2f}\")"
   ]
  },
  {
   "cell_type": "markdown",
   "metadata": {},
   "source": [
    "## 一些基本的矩阵运算\n",
    "\n",
    "- 学会调用`numpy`库进行一些基本的矩阵操作，如：最大最小值，元素和，平均值，矩阵维数，元素总数，排序等。"
   ]
  },
  {
   "cell_type": "code",
   "execution_count": 2,
   "metadata": {},
   "outputs": [
    {
     "name": "stdout",
     "output_type": "stream",
     "text": [
      "Original Matrix:\n",
      " [[0.441 0.279 0.805 0.783 0.819 0.215 0.014 0.511 0.064 0.594]\n",
      " [0.466 1.    0.358 0.315 0.52  0.177 0.964 0.066 0.635 0.826]\n",
      " [0.894 0.601 0.369 0.095 0.303 0.453 0.84  0.415 0.533 0.368]\n",
      " [0.897 0.106 0.496 0.31  0.582 0.63  0.492 0.519 0.963 0.521]\n",
      " [0.128 0.271 0.167 0.464 0.629 0.944 0.557 0.626 0.082 0.094]]\n",
      "Max Value: 1.000\n",
      "Min Value: 0.014\n",
      "Sum of All Values: 24.198\n",
      "Mean Value: 0.484\n",
      "Sorted Values: [0.014 0.064 0.066 0.082 0.094 0.095 0.106 0.128 0.167 0.177 0.215 0.271\n",
      " 0.279 0.303 0.31  0.315 0.358 0.368 0.369 0.415 0.441 0.453 0.464 0.466\n",
      " 0.492 0.496 0.511 0.519 0.52  0.521 0.533 0.557 0.582 0.594 0.601 0.626\n",
      " 0.629 0.63  0.635 0.783 0.805 0.819 0.826 0.84  0.894 0.897 0.944 0.963\n",
      " 0.964 1.   ]\n",
      "Number of Elements (Length): 50\n",
      "Matrix Size (Dimensions): (5, 10)\n"
     ]
    }
   ],
   "source": [
    "import numpy as np\n",
    "\n",
    "np.set_printoptions(precision=3) # 所有的输出均保留三位小数\n",
    "\n",
    "# 基本矩阵运算\n",
    "matrix = np.random.rand(5, 10)\n",
    "\n",
    "max_value = np.max(matrix) # 矩阵中的最大值\n",
    "min_value = np.min(matrix) # 矩阵中的最小值\n",
    "sum_values = np.sum(matrix) # 矩阵中所有元素的和\n",
    "mean_value = np.mean(matrix) # 矩阵中所有元素的平均值\n",
    "sorted_matrix = np.sort(matrix, axis=None) # 将矩阵中的所有元素进行排序\n",
    "length = matrix.size # 矩阵中元素的总数\n",
    "matrix_size = matrix.shape # 返回矩阵的维度（行数和列数）\n",
    "\n",
    "print(\"Original Matrix:\\n\", matrix)\n",
    "print(f\"Max Value: {max_value:.3f}\")\n",
    "print(f\"Min Value: {min_value:.3f}\")\n",
    "print(f\"Sum of All Values: {sum_values:.3f}\")\n",
    "print(f\"Mean Value: {mean_value:.3f}\")\n",
    "print(\"Sorted Values:\", sorted_matrix)\n",
    "print(\"Number of Elements (Length):\", length)\n",
    "print(\"Matrix Size (Dimensions):\", matrix_size)"
   ]
  },
  {
   "cell_type": "markdown",
   "metadata": {},
   "source": [
    "## 特殊矩阵的构造与运算\n",
    "\n",
    "- 学会调用`numpy`库构建特殊矩阵并进行运算，如：单位矩阵，随机矩阵，零矩阵，对角阵，分块矩阵以及一些矩阵加法，乘法，比较等运算操作。"
   ]
  },
  {
   "cell_type": "code",
   "execution_count": 3,
   "metadata": {},
   "outputs": [
    {
     "name": "stdout",
     "output_type": "stream",
     "text": [
      "Are A^2 and the computed matrix B the same? True\n"
     ]
    }
   ],
   "source": [
    "# 特殊矩阵构造与运算\n",
    "E = np.eye(3) # 创建单位矩阵\n",
    "R = np.random.rand(3, 2) # 创建3X2的随机矩阵\n",
    "O = np.zeros((2, 3)) # 创建2X3的零矩阵\n",
    "S = np.diag(np.random.rand(2)) # 创建2X2的对角阵\n",
    "A = np.block([[E, R], \n",
    "              [O, S]]) # 创建分块矩阵A\n",
    "\n",
    "# 计算A的平方\n",
    "A_squared = np.dot(A, A)\n",
    "\n",
    "# 计算特定的矩阵B\n",
    "B = np.block([[E, R + np.dot(R, S)],\n",
    "             [O, np.dot(S, S)]])\n",
    "\n",
    "# 比较A_squared与B是否一致\n",
    "comparision = np.allclose(A_squared, B)\n",
    "\n",
    "print(f\"Are A^2 and the computed matrix B the same? {comparision}\")"
   ]
  },
  {
   "cell_type": "markdown",
   "metadata": {},
   "source": [
    "## 矩阵的高级计算\n",
    "\n",
    "### 线性代数的基本概念及运算\n",
    "\n",
    "1. **方阵的行列式 (Determinant)**\n",
    "   - **概念**：方阵的行列式是一个**标量值**，它反映了方阵的某些性质。行列式的值可以用来判断方阵是否可逆，**若行列式为0，则方阵不可逆**。\n",
    "   \n",
    "2. **矩阵的秩 (Rank)**\n",
    "   - **概念**：矩阵的秩是指**矩阵行向量或列向量的最大线性无关组中包含向量的个数**。秩表示了矩阵中包含的信息量，也决定了矩阵解线性方程组的性质。\n",
    "\n",
    "3. **方阵的幂 (Matrix Power)**\n",
    "   - **概念**：方阵的幂是指将**方阵与自身相乘多次**。例如，一个方阵A的二次幂就是A乘以A。\n",
    "\n",
    "4. **方阵的逆阵 (Inverse Matrix)**\n",
    "   - **概念**：如果两个方阵A和B满足**AB=BA=I（I是单位矩阵）**，则我们称B是A的逆阵。只有当方阵的行列式不为0时，逆阵才存在。\n",
    "\n",
    "5. **向量组的秩**\n",
    "   - **概念**：与矩阵的秩类似，向量组的秩是指**该向量组中最大的线性无关子集的大小**。\n",
    "\n",
    "6. **向量组的正交化 (Vector Orthogonalization)**\n",
    "   - **概念**：向量组的正交化是**将一组向量转换成正交向量组**的过程，通常使用格拉姆-施密特正交化过程。\n",
    "\n",
    "7. **方阵的特征向量和特征值 (Eigenvalues and Eigenvectors)**\n",
    "   - **概念**：对于一个方阵A，如果存在一个非零向量v和一个标量λ，使得**Av=λv**，那么v是A的一个特征向量，λ是对应的特征值。\n",
    "\n",
    "- 学会使用`numpy`对上述各个运算进行代码实现。\n"
   ]
  },
  {
   "cell_type": "code",
   "execution_count": 5,
   "metadata": {},
   "outputs": [
    {
     "name": "stdout",
     "output_type": "stream",
     "text": [
      "Determinant: 0.060\n",
      "Rank: 4\n",
      "Matrix Power (A^2): [[1.183 1.247 1.468 1.803]\n",
      " [1.901 1.469 1.89  2.237]\n",
      " [0.953 0.795 1.034 1.201]\n",
      " [0.84  0.574 0.761 0.885]]\n",
      "Inverse Matrix: [[-0.648  0.602 -0.292  1.204]\n",
      " [ 1.717 -1.947 -0.553  3.736]\n",
      " [-0.285 -1.33   2.96   0.711]\n",
      " [ 0.085  2.332 -1.393 -3.459]]\n",
      "Orthogonalization (First Vector): [-0.044 -0.844 -0.273 -0.46 ]\n",
      "Eigenvalues: [ 1.69  -0.652  0.298 -0.182]\n",
      "First Eigenvector: [-0.533 -0.703 -0.372 -0.288]\n"
     ]
    }
   ],
   "source": [
    "A = np.random.rand(4, 4) # 创建一个4x4的随机方阵\n",
    "\n",
    "detA = np.linalg.det(A) # 方阵的行列式\n",
    "rankA = np.linalg.matrix_rank(A) # 矩阵的秩\n",
    "A_squared = np.linalg.matrix_power(A, 3) # 方阵的幂\n",
    "invA = np.linalg.inv(A) # 方阵的逆秩\n",
    "\n",
    "# 向量组的秩\n",
    "# 此处直接使用矩阵的秩，因为向量组可以视为矩阵的行或列\n",
    "rank_vectors = np.linalg.matrix_rank(A)\n",
    "\n",
    "# 向量组的正交化\n",
    "# 以方阵A的列向量为例进行Gram-Schmidt正交化\n",
    "# Q为正交矩阵且矩阵的列向量是原矩阵列向量的正交化版本，R为上三角矩阵\n",
    "Q, R = np.linalg.qr(A)\n",
    "\n",
    "eigenvalues, eigenvectors = np.linalg.eig(A)\n",
    "\n",
    "print(f\"Determinant: {detA:.3f}\")\n",
    "print(\"Rank:\", rankA)\n",
    "print(\"Matrix Power (A^2):\", A_squared)\n",
    "print(\"Inverse Matrix:\", invA)\n",
    "print(\"Orthogonalization (First Vector):\", Q[:,0])\n",
    "print(\"Eigenvalues:\", eigenvalues)\n",
    "print(\"First Eigenvector:\", eigenvectors[:,0])"
   ]
  }
 ],
 "metadata": {
  "kernelspec": {
   "display_name": "base",
   "language": "python",
   "name": "python3"
  },
  "language_info": {
   "codemirror_mode": {
    "name": "ipython",
    "version": 3
   },
   "file_extension": ".py",
   "mimetype": "text/x-python",
   "name": "python",
   "nbconvert_exporter": "python",
   "pygments_lexer": "ipython3",
   "version": "3.11.5"
  }
 },
 "nbformat": 4,
 "nbformat_minor": 2
}
